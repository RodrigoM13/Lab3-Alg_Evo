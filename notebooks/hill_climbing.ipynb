{
  "nbformat": 4,
  "nbformat_minor": 0,
  "metadata": {
    "colab": {
      "provenance": []
    },
    "kernelspec": {
      "name": "python3",
      "display_name": "Python 3"
    },
    "language_info": {
      "name": "python"
    }
  },
  "cells": [
    {
      "cell_type": "code",
      "execution_count": 1,
      "metadata": {
        "colab": {
          "base_uri": "https://localhost:8080/"
        },
        "id": "VNyZ9qbpsl8S",
        "outputId": "acb31d38-31ad-418f-f84a-1ce6d47c2c5e"
      },
      "outputs": [
        {
          "output_type": "stream",
          "name": "stdout",
          "text": [
            "Franjas Horarias disponibles:\n",
            "   Duración  Productividad\n",
            "0         3              8\n",
            "1         1              5\n",
            "2         3              4\n",
            "3         3              8\n",
            "4         1              8\n",
            "5         1              3\n",
            "6         3              6\n",
            "7         2              5\n",
            "8         3              2\n",
            "9         3              8\n",
            "\n",
            "Solución inicial:\n",
            "Franjas seleccionadas: [False False False False False False  True  True False False]\n",
            "Productividad total: 11, Horas utilizadas: 5\n",
            "\n",
            "Mejor solución encontrada:\n",
            "Franjas seleccionadas: [ True False False False False False  True  True False False]\n",
            "Productividad total: 19, Horas utilizadas: 8\n"
          ]
        }
      ],
      "source": [
        "import numpy as np\n",
        "import pandas as pd\n",
        "\n",
        "np.random.seed(42)\n",
        "n_franjas = 10\n",
        "\n",
        "duracion = np.random.randint(1, 4, size=n_franjas)\n",
        "productividad = np.random.randint(1, 11, size=n_franjas)\n",
        "\n",
        "franjas = pd.DataFrame({\n",
        "    'Duración': duracion,\n",
        "    'Productividad': productividad\n",
        "})\n",
        "\n",
        "print(\"Franjas Horarias disponibles:\")\n",
        "print(franjas)\n",
        "\n",
        "def evaluar(solucion):\n",
        "    horas_seleccionadas = franjas['Duración'][solucion].sum()\n",
        "    productividad_total = franjas['Productividad'][solucion].sum()\n",
        "    return horas_seleccionadas, productividad_total\n",
        "\n",
        "def solucion_inicial():\n",
        "    seleccion = np.random.choice([True, False], size=n_franjas)\n",
        "    while True:\n",
        "        horas, productividad = evaluar(seleccion)\n",
        "        if horas <= 15:\n",
        "            return seleccion\n",
        "        seleccion = np.random.choice([True, False], size=n_franjas)\n",
        "\n",
        "def mutar(solucion):\n",
        "    nueva_solucion = solucion.copy()\n",
        "    i = np.random.randint(0, n_franjas)\n",
        "    nueva_solucion[i] = not nueva_solucion[i]\n",
        "\n",
        "    horas, _ = evaluar(nueva_solucion)\n",
        "    if horas <= 15:\n",
        "        return nueva_solucion\n",
        "    else:\n",
        "        return solucion\n",
        "\n",
        "def hill_climbing():\n",
        "    solucion_actual = solucion_inicial()\n",
        "    horas, productividad = evaluar(solucion_actual)\n",
        "\n",
        "    print(\"\\nSolución inicial:\")\n",
        "    print(f\"Franjas seleccionadas: {solucion_actual}\")\n",
        "    print(f\"Productividad total: {productividad}, Horas utilizadas: {horas}\")\n",
        "\n",
        "    mejor_productividad = productividad\n",
        "    mejor_solucion = solucion_actual.copy()\n",
        "\n",
        "    for _ in range(100):\n",
        "        nueva_solucion = mutar(solucion_actual)\n",
        "        nueva_horas, nueva_productividad = evaluar(nueva_solucion)\n",
        "\n",
        "        if nueva_productividad > mejor_productividad:\n",
        "            mejor_productividad = nueva_productividad\n",
        "            mejor_solucion = nueva_solucion\n",
        "\n",
        "    horas_final, productividad_final = evaluar(mejor_solucion)\n",
        "    return mejor_solucion, productividad_final, horas_final\n",
        "\n",
        "mejor_solucion, mejor_productividad, horas_utilizadas = hill_climbing()\n",
        "\n",
        "print(\"\\nMejor solución encontrada:\")\n",
        "print(f\"Franjas seleccionadas: {mejor_solucion}\")\n",
        "print(f\"Productividad total: {mejor_productividad}, Horas utilizadas: {horas_utilizadas}\")"
      ]
    }
  ]
}