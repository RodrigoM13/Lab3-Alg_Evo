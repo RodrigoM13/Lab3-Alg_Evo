{
  "nbformat": 4,
  "nbformat_minor": 0,
  "metadata": {
    "colab": {
      "provenance": []
    },
    "kernelspec": {
      "name": "python3",
      "display_name": "Python 3"
    },
    "language_info": {
      "name": "python"
    }
  },
  "cells": [
    {
      "cell_type": "code",
      "execution_count": 1,
      "metadata": {
        "colab": {
          "base_uri": "https://localhost:8080/"
        },
        "id": "r2KpyDovCydx",
        "outputId": "701e732d-be23-40a2-f8c4-9ca514db3bdf"
      },
      "outputs": [
        {
          "output_type": "stream",
          "name": "stdout",
          "text": [
            "Mejor combinación encontrada:\n",
            "Franja 1: 2h, productividad 6\n",
            "Franja 3: 3h, productividad 9\n",
            "Franja 4: 2h, productividad 5\n",
            "Franja 6: 3h, productividad 8\n",
            "Franja 7: 2h, productividad 6\n",
            "Franja 10: 3h, productividad 10\n",
            "Productividad total: 44\n"
          ]
        }
      ],
      "source": [
        "import numpy as np\n",
        "import pandas as pd\n",
        "\n",
        "# Definir franjas horarias como DataFrame\n",
        "franjas = pd.DataFrame({\n",
        "    \"duracion\": [2, 1, 3, 2, 1, 3, 2, 1, 2, 3],\n",
        "    \"productividad\": [6, 3, 9, 5, 2, 8, 6, 1, 4, 10]\n",
        "})\n",
        "\n",
        "NUM_INDIVIDUOS = 20\n",
        "NUM_GENERACIONES = 100\n",
        "MAX_HORAS = 15\n",
        "TASA_MUTACION = 0.1\n",
        "\n",
        "def crear_poblacion(num_individuos, num_genes):\n",
        "    return np.random.randint(0, 2, size=(num_individuos, num_genes))\n",
        "\n",
        "def evaluar(poblacion, franjas, max_horas):\n",
        "    duraciones = poblacion @ franjas[\"duracion\"].values\n",
        "    productividades = poblacion @ franjas[\"productividad\"].values\n",
        "    productividades[duraciones > max_horas] = 0\n",
        "    return productividades\n",
        "\n",
        "def cruzar(padre1, padre2):\n",
        "    punto = np.random.randint(1, len(padre1) - 1)\n",
        "    return np.concatenate((padre1[:punto], padre2[punto:]))\n",
        "\n",
        "def mutar(individuo, tasa):\n",
        "    mutaciones = np.random.rand(len(individuo)) < tasa\n",
        "    individuo[mutaciones] = 1 - individuo[mutaciones]\n",
        "    return individuo\n",
        "\n",
        "poblacion = crear_poblacion(NUM_INDIVIDUOS, len(franjas))\n",
        "\n",
        "for gen in range(NUM_GENERACIONES):\n",
        "    aptitudes = evaluar(poblacion, franjas, MAX_HORAS)\n",
        "    indices_ordenados = np.argsort(-aptitudes)\n",
        "    poblacion = poblacion[indices_ordenados]\n",
        "    aptitudes = aptitudes[indices_ordenados]\n",
        "\n",
        "    nueva_poblacion = poblacion[:2].copy()\n",
        "\n",
        "    while len(nueva_poblacion) < NUM_INDIVIDUOS:\n",
        "        padres_idx = np.random.choice(10, 2, replace=False)\n",
        "        padre1, padre2 = poblacion[padres_idx[0]], poblacion[padres_idx[1]]\n",
        "        hijo = cruzar(padre1, padre2)\n",
        "        hijo = mutar(hijo, TASA_MUTACION)\n",
        "        nueva_poblacion = np.vstack([nueva_poblacion, hijo])\n",
        "\n",
        "    poblacion = nueva_poblacion\n",
        "\n",
        "aptitudes = evaluar(poblacion, franjas, MAX_HORAS)\n",
        "mejor_idx = np.argmax(aptitudes)\n",
        "mejor = poblacion[mejor_idx]\n",
        "\n",
        "print(\"Mejor combinación encontrada:\")\n",
        "seleccionadas = franjas[mejor == 1]\n",
        "for idx, fila in seleccionadas.iterrows():\n",
        "    print(f\"Franja {idx+1}: {fila['duracion']}h, productividad {fila['productividad']}\")\n",
        "print(\"Productividad total:\", aptitudes[mejor_idx])\n"
      ]
    }
  ]
}